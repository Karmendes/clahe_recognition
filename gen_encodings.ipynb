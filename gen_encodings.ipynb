{
 "metadata": {
  "language_info": {
   "codemirror_mode": {
    "name": "ipython",
    "version": 3
   },
   "file_extension": ".py",
   "mimetype": "text/x-python",
   "name": "python",
   "nbconvert_exporter": "python",
   "pygments_lexer": "ipython3",
   "version": "3.7.1-final"
  },
  "orig_nbformat": 2,
  "kernelspec": {
   "name": "python_defaultSpec_1600989231245",
   "display_name": "Python 3.7.1 64-bit ('clahe_recognition': conda)",
   "metadata": {
    "interpreter": {
     "hash": "dca0ade3e726a953b501b15e8e990130d2b7799f14cfd9f4271676035ebe5511"
    }
   }
  }
 },
 "nbformat": 4,
 "nbformat_minor": 2,
 "cells": [
  {
   "cell_type": "code",
   "execution_count": 17,
   "metadata": {},
   "outputs": [],
   "source": [
    "from imutils import paths\n",
    "import cv2\n",
    "import os\n",
    "from recognition_modules.pre_process.pre_process import pre_process_frame\n",
    "from recognition_modules.feature_extractor.ageitgey_model import get_embeddings\n",
    "from recognition_modules.face_match.election_based import get_name_election"
   ]
  },
  {
   "cell_type": "code",
   "execution_count": 18,
   "metadata": {},
   "outputs": [],
   "source": [
    "# load paths\n",
    "paths= list(paths.list_images(\"Test/\"))\n",
    "# load detector\n",
    "detector = cv2.CascadeClassifier('detector.xml')"
   ]
  },
  {
   "cell_type": "code",
   "execution_count": 19,
   "metadata": {},
   "outputs": [],
   "source": [
    "data = {\n",
    "        'names':[],\n",
    "        'encodings':[]\n",
    "    }"
   ]
  },
  {
   "cell_type": "code",
   "execution_count": 20,
   "metadata": {},
   "outputs": [],
   "source": [
    "def improve_contrast_image_using_clahe(frame):\n",
    "    hsv = cv2.cvtColor(frame, cv2.COLOR_BGR2HSV)\n",
    "    hsv_planes = cv2.split(hsv)\n",
    "    clahe = cv2.createCLAHE(clipLimit=2.0, tileGridSize=(8, 8))\n",
    "    hsv_planes[2] = clahe.apply(hsv_planes[2])\n",
    "    hsv = cv2.merge(hsv_planes)\n",
    "    return cv2.cvtColor(hsv, cv2.COLOR_HSV2BGR)"
   ]
  },
  {
   "cell_type": "code",
   "execution_count": 21,
   "metadata": {
    "tags": []
   },
   "outputs": [
    {
     "output_type": "stream",
     "name": "stdout",
     "text": "Test/Diego/Diego_2.jpeg com problema\nTest/Otavio/Otavio_2.jpeg com problema\nTest/Caroline_Carvalho/Carol_1.jpg com problema\nTest/Caroline_Carvalho/Carol_2.jpg com problema\nTest/Juliana_Puterman/Juliana_Puterman_2.jpeg com problema\nTest/Cesar/Cesar_5.jpg com problema\nTest/Felipe/Felipe_4.jpg com problema\nTest/Random_71/images (1).jpeg com problema\nTest/Random_71/elle-macpherson-today-main-190606_10b538ae0c490cc6eafc09bad599f12c.jpg com problema\nTest/Random_49/Ron-Weasley-e1436589589658.jpg com problema\nTest/Bia/Bia_2.jpeg com problema\nTest/Bia/Bia_5.jpeg com problema\nTest/Random_40/CAROL2-1.jpg com problema\nTest/Random_47/thumbnail-for-90895.jpg com problema\nTest/Random_47/Entrevista_Dezembro_de_2018_-_Mel_Maia,_02.jpg com problema\nTest/Vinicius_Almeida/Vini_4.jpg com problema\nTest/Elizabete/Elizabete_5.jpg com problema\nTest/Random_14/00000001.jpg com problema\nTest/Random_22/tony-ramos.jpg com problema\nTest/Random_25/download (1).jpeg com problema\nTest/Random_25/Laura-Cardoso-como-Matilde-em-A-Dona-do-Pedaço-1-300x565.jpg com problema\nTest/Random_46/2303.jpg com problema\nTest/Random_41/2300747-juliana-alves-falou-que-se-encarrega-dos-624x600-4.jpg com problema\nTest/Random_70/cdn.cliqueinc.com__cache__posts__263078__sandra-bullock-west-hollywood-home-263078-1531756901360-main.700x0c-f972ca0a09c94c44a9d5641fc7da6db7.jpg com problema\nTest/Random_15/1637655_fotoarena.jpg com problema\nTest/Random_15/IMG_8792.jpg com problema\nTest/Random_15/rodrigo-caio-especial-libertadores-flamengo_4mhagq7klxe71kp3ch0crft9l.jpg com problema\nTest/Random_37/luiza-1024x594.jpg com problema\nTest/Random_37/2835528-solteira-luiza-brunet-esta-ha-2-anos-se-624x600-2.jpg com problema\nTest/Random_39/deborah-secco-globo.jpg com problema\nTest/Clara/Clara_3.jpg com problema\nTest/Random_55/download (2).jpeg com problema\nTest/Random_63/3866488.jpg com problema\nTest/Random_31/Nathalia-Timberg (1).jpg com problema\nTest/Random_62/MV5BMTc4MTgxOTk2Ml5BMl5BanBnXkFtZTcwNzMwMjYwMw@@._V1_UY1200_CR133,0,630,1200_AL_.jpg com problema\nTest/Lucas_Gitsin/Lucas_Gitsin_2.jpg com problema\nTest/Lucas_Gitsin/Lucas_Gitsin_1.png com problema\nTest/Caroline_Oliveira/Caroline_Oliveira_3.jpg com problema\nTest/Lucas_Mendes/Mendes_3.jpg com problema\nTest/Lucas_Mendes/Mendes_5.jpg com problema\nTest/Vinicius_Cruz/Vinicius_Cruz_2.jpeg com problema\nTest/Marcelo_Bronze/Marcelo_Bronze_3.jpeg com problema\nTest/Veronica/Veronica_5.jpg com problema\nTest/Veronica/Veronica_3.jpg com problema\nTest/Sergio/Sergio_3.jpg com problema\nTest/Eduardo/Eduardo_1.png com problema\nTest/Eduardo/Eduardo_4.jpg com problema\nTest/Carlos_Eduardo/carlos_eduardo_4.jpg com problema\nTest/Random_17/Milton_Gonçalves_26_PMB_cropped.jpg com problema\nTest/Random_17/Milton-Gonçalves.jpg com problema\nTest/Random_17/milton-goncalves-foto-joao-miguel-juniorglobo-1589559041706_v2_450x337.jpg com problema\nTest/Random_10/Gabriel_Barbosa_-_Rio_2016.jpg com problema\nTest/Random_10/GabigolFlamengo.jpg com problema\nTest/Random_21/20_1.jpg com problema\nTest/Random_43/3882933.jpg com problema\nTest/Random_11/images.jpeg com problema\nTest/Random_11/gerson-do-flamengo-em-foto-para-o-uol---12092019-1568762834193_v2_450x600.jpg com problema\nTest/Anderson/Anderson_5.jpg com problema\nTest/Anderson/Anderson_3.jpg com problema\nTest/Anderson/Anderson_2.jpg com problema\nTest/Random_29/aracy-balabanian-comemora-volta-as-novelas-nota_310065_36.jpg com problema\nTest/Random_16/00000000.png com problema\nTest/Random_74/featured_5_3.jpg com problema\nTest/Random_74/images.jpeg com problema\nTest/Random_74/53d36411f149a_-_md_ec898280123368329011853.jpg com problema\nTest/Random_74/tdy_pop_10a_andie_macdowell_190822_2.focal-760x428.jpg com problema\nTest/Random_7/5f243a24a1d4f.jpeg com problema\nTest/Random_56/johnny-depp-10-12-2019-4ffac61d739d9bd75c2a94756b64382f.jpg com problema\nTest/Random_51/000_1cb3qw.172b4104519.original.jpg com problema\nTest/Random_9/felipeluis-brasil-brunodomingos-mowa.jpg com problema\nTest/Random_33/3ee9b39933f140fe7b9f15de3ea4fe40dc-20-beyonce.jpg com problema\nTest/Nicholas/Nicholas_1.jpg com problema\nTest/Random_61/images.jpeg com problema\nTest/Random_66/5e5ccebd7152d82968af246a.jpg com problema\nTest/Random_66/040714.jpg com problema\nTest/Random_68/A-150330-1564821086-7325.jpeg.jpg com problema\nTest/Random_68/6d23d0a0d33d13489a5fe3deb34df7d6.jpg com problema\nTest/Random_68/A-150330-1564821086-7325.jpeg (1).jpg com problema\nTest/Random_6/r640558_1296x729_16-9.jpg com problema\nTest/Izabella/Izabella_5.jpeg com problema\nTest/Izabella/Izabella_2.jpeg com problema\nTest/Izabella/Izabella_1.jpeg com problema\n"
    }
   ],
   "source": [
    "for path in paths_encodings:\n",
    "    try:\n",
    "        # get the frame\n",
    "        frame = cv2.imread(path)\n",
    "        # pre process frame\n",
    "        rects = pre_process_frame(frame,detector)\n",
    "        x1, y1, width, height = rects\n",
    "        x2, y2 = x1 + width, y1 + height\n",
    "        face = frame[y1:y2, x1:x2]\n",
    "        face = improve_contrast_image_using_clahe(face)\n",
    "        # get embeddings\n",
    "        encoding = get_embeddings(rects,face)\n",
    "        # save in the dictionary\n",
    "        data['names'].append(path.split(os.path.sep)[-2])\n",
    "        data['encodings'].append(encoding)\n",
    "    except:\n",
    "        print(f'{path} com problema')"
   ]
  },
  {
   "cell_type": "code",
   "execution_count": 22,
   "metadata": {},
   "outputs": [],
   "source": [
    "import pandas as pd\n",
    "data = pd.DataFrame(data)\n",
    "length = data.groupby('names')['names'].agg('count')\n",
    "data_count = pd.DataFrame(\n",
    "    {\n",
    "        'names':length.index.to_list(),\n",
    "        'tamanho':length.to_list()\n",
    "    }\n",
    ")\n",
    "data_final = data.set_index('names').join(data_count.set_index('names'))\n",
    "data_final = data_final[data_final['tamanho'] >= 2]\n",
    "data_final = data_final.reset_index()\n",
    "data_final = data_final[['names','encodings']]\n",
    "data = {\n",
    "    'names':data_final['names'].to_list(),\n",
    "    'encodings':data_final['encodings'].to_list()\n",
    "}"
   ]
  },
  {
   "cell_type": "code",
   "execution_count": 23,
   "metadata": {},
   "outputs": [],
   "source": [
    "import pickle\n",
    "with open('encodings_clahe_face.pickle', 'wb') as handle:\n",
    "    pickle.dump(data, handle)"
   ]
  }
 ]
}