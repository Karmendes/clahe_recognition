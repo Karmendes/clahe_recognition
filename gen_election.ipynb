{
 "metadata": {
  "language_info": {
   "codemirror_mode": {
    "name": "ipython",
    "version": 3
   },
   "file_extension": ".py",
   "mimetype": "text/x-python",
   "name": "python",
   "nbconvert_exporter": "python",
   "pygments_lexer": "ipython3",
   "version": "3.7.1-final"
  },
  "orig_nbformat": 2,
  "kernelspec": {
   "name": "python_defaultSpec_1600993353314",
   "display_name": "Python 3.7.1 64-bit ('clahe_recognition': conda)",
   "metadata": {
    "interpreter": {
     "hash": "ead85409a3df2736fa4852a03cf3afe7e5b1dbdc0e40d7d22bbcbf8cf1adf5fa"
    }
   }
  }
 },
 "nbformat": 4,
 "nbformat_minor": 2,
 "cells": [
  {
   "cell_type": "code",
   "execution_count": 1,
   "metadata": {},
   "outputs": [],
   "source": [
    "from imutils import paths\n",
    "import cv2\n",
    "import os\n",
    "import pickle\n",
    "from recognition_modules.pre_process.pre_process import pre_process_frame\n",
    "from recognition_modules.feature_extractor.ageitgey_model import get_embeddings\n",
    "from recognition_modules.face_match.election_based import get_name_election"
   ]
  },
  {
   "cell_type": "code",
   "execution_count": 2,
   "metadata": {},
   "outputs": [],
   "source": [
    "with open('encodings_clahe_face.pickle', 'rb') as handle:\n",
    "    data = pickle.load(handle)"
   ]
  },
  {
   "cell_type": "code",
   "execution_count": 3,
   "metadata": {},
   "outputs": [],
   "source": [
    "# load paths\n",
    "paths = list(paths.list_images(\"Train/\"))\n",
    "# load detector\n",
    "detector = cv2.CascadeClassifier('detector.xml')"
   ]
  },
  {
   "cell_type": "code",
   "execution_count": 4,
   "metadata": {},
   "outputs": [],
   "source": [
    "results = {\n",
    "    'predict':[],\n",
    "    'real':[],\n",
    "    'tolerance':[]\n",
    "}"
   ]
  },
  {
   "cell_type": "code",
   "execution_count": 5,
   "metadata": {},
   "outputs": [],
   "source": [
    "def improve_contrast_image_using_clahe(frame):\n",
    "    hsv = cv2.cvtColor(frame, cv2.COLOR_BGR2HSV)\n",
    "    hsv_planes = cv2.split(hsv)\n",
    "    clahe = cv2.createCLAHE(clipLimit=2.0, tileGridSize=(8, 8))\n",
    "    hsv_planes[2] = clahe.apply(hsv_planes[2])\n",
    "    hsv = cv2.merge(hsv_planes)\n",
    "    return cv2.cvtColor(hsv, cv2.COLOR_HSV2BGR)"
   ]
  },
  {
   "cell_type": "code",
   "execution_count": 6,
   "metadata": {
    "tags": []
   },
   "outputs": [
    {
     "output_type": "stream",
     "name": "stdout",
     "text": "Info: Tolerancia 0.4\nInfo: Tolerancia 0.45\nInfo: Tolerancia 0.5\nInfo: Tolerancia 0.55\nInfo: Tolerancia 0.6\nInfo: Tolerancia 0.65\nInfo: Tolerancia 0.7\n"
    }
   ],
   "source": [
    "for i in range(40,71,5):\n",
    "    print(f'Info: Tolerancia {i/100}')\n",
    "    for path in paths:\n",
    "        try:\n",
    "            # get the frame\n",
    "            frame = cv2.imread(path)\n",
    "            # pre process frame\n",
    "            rects = pre_process_frame(frame,detector)\n",
    "            x1, y1, width, height = rects\n",
    "            x2, y2 = x1 + width, y1 + height\n",
    "            face = frame[y1:y2, x1:x2]\n",
    "            face = improve_contrast_image_using_clahe(face)\n",
    "            # get embeddings\n",
    "            encoding = get_embeddings(rects,face)\n",
    "            # get tha name\n",
    "            name = get_name_election(encoding,data,input_tolerance= (i/100))\n",
    "            # save in dictionary\n",
    "            results['predict'].append(name)\n",
    "            results['real'].append(path.split(os.path.sep)[-2])\n",
    "            results['tolerance'].append((i/100))\n",
    "        except:\n",
    "            pass"
   ]
  },
  {
   "cell_type": "code",
   "execution_count": 7,
   "metadata": {},
   "outputs": [],
   "source": [
    "import pandas as pd"
   ]
  },
  {
   "cell_type": "code",
   "execution_count": 8,
   "metadata": {},
   "outputs": [],
   "source": [
    "data = pd.DataFrame(results)"
   ]
  },
  {
   "cell_type": "code",
   "execution_count": 9,
   "metadata": {},
   "outputs": [],
   "source": [
    "data['result'] = data['predict'] == data['real']"
   ]
  },
  {
   "cell_type": "code",
   "execution_count": 23,
   "metadata": {},
   "outputs": [],
   "source": [
    "with open('clahe_frame.pickle', 'wb') as handle:\n",
    "    pickle.dump(results, handle)"
   ]
  }
 ]
}