{
 "metadata": {
  "language_info": {
   "codemirror_mode": {
    "name": "ipython",
    "version": 3
   },
   "file_extension": ".py",
   "mimetype": "text/x-python",
   "name": "python",
   "nbconvert_exporter": "python",
   "pygments_lexer": "ipython3",
   "version": "3.7.1-final"
  },
  "orig_nbformat": 2,
  "kernelspec": {
   "name": "python_defaultSpec_1600971857174",
   "display_name": "Python 3.7.1 64-bit ('clahe_recognition': conda)",
   "metadata": {
    "interpreter": {
     "hash": "ead85409a3df2736fa4852a03cf3afe7e5b1dbdc0e40d7d22bbcbf8cf1adf5fa"
    }
   }
  }
 },
 "nbformat": 4,
 "nbformat_minor": 2,
 "cells": [
  {
   "cell_type": "code",
   "execution_count": 1,
   "metadata": {},
   "outputs": [],
   "source": [
    "from imutils import paths\n",
    "import cv2\n",
    "import os\n",
    "import pickle\n",
    "from recognition_modules.pre_process.pre_process import pre_process_frame\n",
    "from recognition_modules.feature_extractor.ageitgey_model import get_embeddings\n",
    "from recognition_modules.face_match.election_based import get_name_election"
   ]
  },
  {
   "cell_type": "code",
   "execution_count": 2,
   "metadata": {},
   "outputs": [],
   "source": [
    "with open('encodings.pickle', 'rb') as handle:\n",
    "    data = pickle.load(handle)"
   ]
  },
  {
   "cell_type": "code",
   "execution_count": 3,
   "metadata": {},
   "outputs": [],
   "source": [
    "# load paths\n",
    "paths = list(paths.list_images(\"Train/\"))\n",
    "# load detector\n",
    "detector = cv2.CascadeClassifier('detector.xml')"
   ]
  },
  {
   "cell_type": "code",
   "execution_count": 4,
   "metadata": {},
   "outputs": [],
   "source": [
    "results = {\n",
    "    'predict':[],\n",
    "    'real':[],\n",
    "    'tolerance':[]\n",
    "}"
   ]
  },
  {
   "cell_type": "code",
   "execution_count": null,
   "metadata": {
    "tags": [
     "outputPrepend"
    ]
   },
   "outputs": [],
   "source": [
    "for i in range(40,70):\n",
    "    print(f'Info: Tolerancia {i/100}')\n",
    "    for path in paths:\n",
    "        try:\n",
    "            # get the frame\n",
    "            frame = cv2.imread(path)\n",
    "            # pre process frame\n",
    "            rects = pre_process_frame(frame,detector)\n",
    "            # get embeddings\n",
    "            encoding = get_embeddings(rects,frame)\n",
    "            # get tha name\n",
    "            name = get_name_election(encoding,data,input_tolerance= (i/100))\n",
    "            # save in dictionary\n",
    "            results['predict'].append(name)\n",
    "            results['real'].append(path.split(os.path.sep)[-2])\n",
    "            results['tolerance'].append((i/100))\n",
    "        except:\n",
    "            pass"
   ]
  },
  {
   "cell_type": "code",
   "execution_count": null,
   "metadata": {},
   "outputs": [],
   "source": [
    "with open('baseline.pickle', 'wb') as handle:\n",
    "    pickle.dump(results, handle)"
   ]
  }
 ]
}